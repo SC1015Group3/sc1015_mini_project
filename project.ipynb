{
 "cells": [
  {
   "cell_type": "markdown",
   "metadata": {},
   "source": [
    "## Basic Setup and Cleaning"
   ]
  },
  {
   "cell_type": "code",
   "execution_count": null,
   "metadata": {},
   "outputs": [],
   "source": [
    "# Basic Libraries\n",
    "import numpy as np\n",
    "import pandas as pd\n",
    "import seaborn as sb\n",
    "import matplotlib.pyplot as plt # we only need pyplot\n",
    "sb.set_theme() # set the default Seaborn style for graphics"
   ]
  },
  {
   "cell_type": "code",
   "execution_count": null,
   "metadata": {},
   "outputs": [],
   "source": [
    "# Import dataset and check basic information\n",
    "full_dataset = pd.read_csv('datasets/spotify_songs.csv')\n",
    "print(full_dataset.shape)\n",
    "# print(full_dataset.dtypes)\n",
    "# full_dataset.head()\n",
    "# full_dataset.describe()\n",
    "full_dataset.info()"
   ]
  },
  {
   "cell_type": "markdown",
   "metadata": {},
   "source": [
    "From the printed `.info()` above, we can see that some of the records in the `full_dataset` contain `NA` values in certain variables. Hence, we drop those records from `full_dataset`."
   ]
  },
  {
   "cell_type": "code",
   "execution_count": null,
   "metadata": {},
   "outputs": [],
   "source": [
    "# Apply the dropna() function to remove records with missing values\n",
    "# then check the information of the cleaned dataset\n",
    "full_dataset.dropna(inplace=True)\n",
    "full_dataset.info()"
   ]
  },
  {
   "cell_type": "markdown",
   "metadata": {},
   "source": [
    "## Define the Polularity Levels"
   ]
  },
  {
   "cell_type": "markdown",
   "metadata": {},
   "source": [
    "Since our goal is to roughly predict the popularity, we need to divide the `track_popularity` into several levels. To achieve this, let's perform some EDA and gain a general insight of this variable first."
   ]
  },
  {
   "cell_type": "code",
   "execution_count": null,
   "metadata": {},
   "outputs": [],
   "source": [
    "# Extract the track_popularity column and check its distribution\n",
    "popularity = pd.DataFrame(full_dataset[\"track_popularity\"])\n",
    "print(popularity.describe())\n",
    "print(popularity.value_counts())\n",
    "\n",
    "f, axes = plt.subplots(3, 1, figsize=(24, 12), sharex=True)\n",
    "sb.boxplot(data = popularity, orient = \"h\", ax=axes[0])\n",
    "sb.histplot(data = popularity, kde = True, ax=axes[1])\n",
    "sb.violinplot(data = popularity, orient = \"h\", ax=axes[2])"
   ]
  },
  {
   "cell_type": "markdown",
   "metadata": {},
   "source": [
    "From the plots and `.value_counts()` above, we can see that there are unexpectedly high number of records with `track_popularity <= 1`. Let's assume this is a sort of anomaly and remove such records from our `full_dataset` to calculate a more credible mean and standard deviation."
   ]
  },
  {
   "cell_type": "code",
   "execution_count": null,
   "metadata": {},
   "outputs": [],
   "source": [
    "# Remove records whose value of popularity is lower than or equal to 1\n",
    "full_dataset = full_dataset[full_dataset['track_popularity'] > 1]\n",
    "popularity = full_dataset[\"track_popularity\"]\n",
    "\n",
    "# Check the skewness and distribution of the track_popularity column\n",
    "from scipy.stats import skew\n",
    "\n",
    "print(\"Skewness of popularity:\", skew(popularity))\n",
    "print(popularity.value_counts())\n",
    "f, axes = plt.subplots(3, 1, figsize=(24, 12), sharex=True)\n",
    "sb.boxplot(data = popularity, orient = \"h\", ax=axes[0])\n",
    "sb.histplot(data = popularity, kde = True, ax=axes[1])\n",
    "sb.violinplot(data = popularity, orient = \"h\", ax=axes[2])"
   ]
  },
  {
   "cell_type": "markdown",
   "metadata": {},
   "source": [
    "From the calculated skewness and plots above, we can clearly see that **`track_popularity` is similar to a normal distribution** if we ignore the clustering phenomenon at the low end.\n",
    "\n",
    "Thus, we can divide `track_popularity` into **6 levels** -- `very_low`, `low`, `somewhat_low`, `somewhat_high`, `high`, and `very_high` -- by mean and standard deviation."
   ]
  },
  {
   "cell_type": "code",
   "execution_count": null,
   "metadata": {},
   "outputs": [],
   "source": [
    "# Calculate the mean and standard deviation of track_popularity\n",
    "mean = popularity.mean()\n",
    "std = popularity.std()\n",
    "\n",
    "# Define the level divisions\n",
    "very_low = mean - 2 * std\n",
    "low = mean - std\n",
    "medium = mean\n",
    "high = mean + std\n",
    "very_high = mean + 2 * std\n",
    "\n",
    "# Create a new column \"popularity_level\" based on the level divisions\n",
    "full_dataset[\"popularity_level\"] = pd.cut(full_dataset[\"track_popularity\"], bins=[0, very_low, low, medium, high, very_high, float('inf')], labels=[\"very_low\", \"low\", \"somewhat_low\", \"somewhat_high\", \"high\", \"very_high\"])\n",
    "\n",
    "# Check the distribution of popularity levels\n",
    "popularity_level = pd.DataFrame(full_dataset[\"popularity_level\"].value_counts(sort=False), columns=[\"count\"])\n",
    "popularity_level[\"density\"] = popularity_level[\"count\"] / len(full_dataset)\n",
    "popularity_level"
   ]
  },
  {
   "cell_type": "markdown",
   "metadata": {},
   "source": [
    "## Reduce Sample Size"
   ]
  },
  {
   "cell_type": "markdown",
   "metadata": {},
   "source": [
    "Currently the sample size is over 30k, and we choose to reduce it to 5k by random sampling."
   ]
  },
  {
   "cell_type": "code",
   "execution_count": null,
   "metadata": {},
   "outputs": [],
   "source": [
    "sampled_dataset = full_dataset.sample(n=5000)\n",
    "sampled_dataset.to_csv('datasets/cleaned_dataset.out.csv', index=False)\n",
    "print(sampled_dataset.shape)\n",
    "print(sampled_dataset[\"popularity_level\"].value_counts(sort=False) / len(sampled_dataset))"
   ]
  },
  {
   "cell_type": "code",
   "execution_count": null,
   "metadata": {},
   "outputs": [],
   "source": []
  }
 ],
 "metadata": {
  "kernelspec": {
   "display_name": "sc1015_mini_project",
   "language": "python",
   "name": "python3"
  },
  "language_info": {
   "codemirror_mode": {
    "name": "ipython",
    "version": 3
   },
   "file_extension": ".py",
   "mimetype": "text/x-python",
   "name": "python",
   "nbconvert_exporter": "python",
   "pygments_lexer": "ipython3",
   "version": "3.11.6"
  }
 },
 "nbformat": 4,
 "nbformat_minor": 2
}
